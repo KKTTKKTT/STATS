{
 "cells": [
  {
   "cell_type": "markdown",
   "id": "b33ba61f",
   "metadata": {},
   "source": [
    "# Chapter 5"
   ]
  },
  {
   "cell_type": "markdown",
   "id": "09bac839",
   "metadata": {},
   "source": [
    "Q3) a) Explain how k-fold cross-validation is implemented."
   ]
  },
  {
   "cell_type": "markdown",
   "id": "48aaa7ca",
   "metadata": {},
   "source": [
    "The k-fold cross validation is implemented by taking the n observations and randomly splitting it into k non-overlapping groups.\n",
    "These groups acts as a validation set, and the rest of them act as a training set."
   ]
  },
  {
   "cell_type": "markdown",
   "id": "bd9f73ef",
   "metadata": {},
   "source": [
    "Q3) b)What are the advantages and disadvantages of k-fold cross-validation relative to:"
   ]
  },
  {
   "cell_type": "markdown",
   "id": "aebbf640",
   "metadata": {},
   "source": [
    "i) The validation set approach ?\n",
    "\n",
    "1) The validation estimate of the test error rate can be highly variable \n",
    "2) A subset of the observations are used to fit the model.\n",
    "\n",
    "ii) LOOCV ?\n",
    "\n",
    "The LOOCV cross-validation approach might give approximately unbiased estimates of the test error.\n",
    "\n",
    "\n"
   ]
  },
  {
   "cell_type": "code",
   "execution_count": 1,
   "id": "eb8adbd6",
   "metadata": {},
   "outputs": [],
   "source": [
    "#Q8) a) \n",
    "\n",
    "set.seed(1)\n",
    "y <- rnorm(100)\n",
    "x <- rnorm(100)\n",
    "y <- x - 2 * x^2 + rnorm(100)\n",
    "\n",
    "# n=100 and p=2"
   ]
  },
  {
   "cell_type": "code",
   "execution_count": 2,
   "id": "a958e6c4",
   "metadata": {},
   "outputs": [
    {
     "data": {
      "image/png": "[encoded data removed]",
      "text/plain": [
       "plot without title"
      ]
     },
     "metadata": {
      "image/png": {
       "height": 420,
       "width": 420
      }
     },
     "output_type": "display_data"
    }
   ],
   "source": [
    "#b) \n",
    "plot(x, y)"
   ]
  },
  {
   "cell_type": "code",
   "execution_count": 3,
   "id": "9546c221",
   "metadata": {},
   "outputs": [],
   "source": [
    "#c) \n",
    "set.seed(11)\n",
    "x = c(rnorm(100))\n",
    "y = c(x-2*x^2+rnorm(100))\n",
    "df = data.frame(x,y)\n",
    "cv.err = rep(0,4)"
   ]
  },
  {
   "cell_type": "code",
   "execution_count": 7,
   "id": "2b929d86",
   "metadata": {},
   "outputs": [
    {
     "data": {
      "text/html": [
       "6.63065083793124"
      ],
      "text/latex": [
       "6.63065083793124"
      ],
      "text/markdown": [
       "6.63065083793124"
      ],
      "text/plain": [
       "[1] 6.630651"
      ]
     },
     "metadata": {},
     "output_type": "display_data"
    }
   ],
   "source": [
    "# i)\n",
    "library(boot)\n",
    "lr.fit = glm(y~poly(x,degree=1,raw=TRUE))\n",
    "cv.glm(df, lr.fit)$delta[1]"
   ]
  },
  {
   "cell_type": "code",
   "execution_count": 8,
   "id": "9a4427b6",
   "metadata": {},
   "outputs": [
    {
     "data": {
      "text/html": [
       "1.03246937599179"
      ],
      "text/latex": [
       "1.03246937599179"
      ],
      "text/markdown": [
       "1.03246937599179"
      ],
      "text/plain": [
       "[1] 1.032469"
      ]
     },
     "metadata": {},
     "output_type": "display_data"
    }
   ],
   "source": [
    "# ii)\n",
    "lr.fit = glm(y~poly(x,degree=2,raw=TRUE))\n",
    "cv.glm(df, lr.fit)$delta[1]"
   ]
  },
  {
   "cell_type": "code",
   "execution_count": 9,
   "id": "0d72c648",
   "metadata": {},
   "outputs": [
    {
     "data": {
      "text/html": [
       "1.09054991955727"
      ],
      "text/latex": [
       "1.09054991955727"
      ],
      "text/markdown": [
       "1.09054991955727"
      ],
      "text/plain": [
       "[1] 1.09055"
      ]
     },
     "metadata": {},
     "output_type": "display_data"
    }
   ],
   "source": [
    "# iii)\n",
    "lr.fit = glm(y~poly(x,degree=3,raw=TRUE))\n",
    "cv.glm(df, lr.fit)$delta[1]"
   ]
  },
  {
   "cell_type": "code",
   "execution_count": 10,
   "id": "32c98f6c",
   "metadata": {},
   "outputs": [
    {
     "data": {
      "text/html": [
       "1.07130459507508"
      ],
      "text/latex": [
       "1.07130459507508"
      ],
      "text/markdown": [
       "1.07130459507508"
      ],
      "text/plain": [
       "[1] 1.071305"
      ]
     },
     "metadata": {},
     "output_type": "display_data"
    }
   ],
   "source": [
    "# iv)\n",
    "lr.fit = glm(y~poly(x,degree=4,raw=TRUE))\n",
    "cv.glm(df, lr.fit)$delta[1]"
   ]
  },
  {
   "cell_type": "code",
   "execution_count": 12,
   "id": "a2a52d21",
   "metadata": {},
   "outputs": [
    {
     "data": {
      "image/png": "[encoded data removed]",
      "text/plain": [
       "plot without title"
      ]
     },
     "metadata": {
      "image/png": {
       "height": 420,
       "width": 420
      }
     },
     "output_type": "display_data"
    }
   ],
   "source": [
    "#d) \n",
    "set.seed(1)\n",
    "x = c(rnorm(100))\n",
    "y = c(x-3*x^2+rnorm(100))\n",
    "plot(x,y)"
   ]
  },
  {
   "cell_type": "code",
   "execution_count": 13,
   "id": "5a84d9af",
   "metadata": {},
   "outputs": [
    {
     "data": {
      "text/html": [
       "14.5509565003022"
      ],
      "text/latex": [
       "14.5509565003022"
      ],
      "text/markdown": [
       "14.5509565003022"
      ],
      "text/plain": [
       "[1] 14.55096"
      ]
     },
     "metadata": {},
     "output_type": "display_data"
    }
   ],
   "source": [
    "# i)\n",
    "library(boot)\n",
    "lr.fit = glm(y~poly(x,degree=1,raw=TRUE))\n",
    "cv.glm(df, lr.fit)$delta[1]"
   ]
  },
  {
   "cell_type": "code",
   "execution_count": 14,
   "id": "99957028",
   "metadata": {},
   "outputs": [
    {
     "data": {
      "text/html": [
       "22.0159217212182"
      ],
      "text/latex": [
       "22.0159217212182"
      ],
      "text/markdown": [
       "22.0159217212182"
      ],
      "text/plain": [
       "[1] 22.01592"
      ]
     },
     "metadata": {},
     "output_type": "display_data"
    }
   ],
   "source": [
    "# ii)\n",
    "lr.fit = glm(y~poly(x,degree=2,raw=TRUE))\n",
    "cv.glm(df, lr.fit)$delta[1]"
   ]
  },
  {
   "cell_type": "code",
   "execution_count": 15,
   "id": "ef5fbf50",
   "metadata": {},
   "outputs": [
    {
     "data": {
      "text/html": [
       "22.2665446841342"
      ],
      "text/latex": [
       "22.2665446841342"
      ],
      "text/markdown": [
       "22.2665446841342"
      ],
      "text/plain": [
       "[1] 22.26654"
      ]
     },
     "metadata": {},
     "output_type": "display_data"
    }
   ],
   "source": [
    "# iii)\n",
    "lr.fit = glm(y~poly(x,degree=3,raw=TRUE))\n",
    "cv.glm(df, lr.fit)$delta[1]"
   ]
  },
  {
   "cell_type": "code",
   "execution_count": 16,
   "id": "e2a60a0d",
   "metadata": {},
   "outputs": [
    {
     "data": {
      "text/html": [
       "21.6406637830311"
      ],
      "text/latex": [
       "21.6406637830311"
      ],
      "text/markdown": [
       "21.6406637830311"
      ],
      "text/plain": [
       "[1] 21.64066"
      ]
     },
     "metadata": {},
     "output_type": "display_data"
    }
   ],
   "source": [
    "# iv)\n",
    "lr.fit = glm(y~poly(x,degree=4,raw=TRUE))\n",
    "cv.glm(df, lr.fit)$delta[1]"
   ]
  },
  {
   "cell_type": "markdown",
   "id": "92543de1",
   "metadata": {},
   "source": [
    "The lowest error is given by the model with a quadratic term."
   ]
  },
  {
   "cell_type": "markdown",
   "id": "11e17afd",
   "metadata": {},
   "source": [
    "#e) \n",
    "The model with the quadratic term had the lowest LOOCV error. As the the dataset is almost quadratic in shape."
   ]
  },
  {
   "cell_type": "markdown",
   "id": "b502bddf",
   "metadata": {},
   "source": [
    "# Chapter 6"
   ]
  },
  {
   "cell_type": "markdown",
   "id": "d331b164",
   "metadata": {},
   "source": [
    "1) \n",
    "a) When performing best subset selection, the model with k predictors is the model with the smallest RSS.\n",
    "b) Best test RSS could be from any of the models.\n",
    "c)\n",
    "i) True \n",
    "ii) True \n",
    "iii) False \n",
    "iv) False \n",
    "v) False "
   ]
  },
  {
   "cell_type": "code",
   "execution_count": 25,
   "id": "2319c773",
   "metadata": {},
   "outputs": [
    {
     "name": "stderr",
     "output_type": "stream",
     "text": [
      "Warning message:\n",
      "\"package 'ISLR' is in use and will not be installed\"\n",
      "also installing the dependency 'RcppEigen'\n",
      "\n",
      "\n"
     ]
    },
    {
     "name": "stdout",
     "output_type": "stream",
     "text": [
      "package 'RcppEigen' successfully unpacked and MD5 sums checked\n",
      "package 'glmnet' successfully unpacked and MD5 sums checked\n",
      "\n",
      "The downloaded binary packages are in\n",
      "\tC:\\Users\\kamal\\AppData\\Local\\Temp\\Rtmp0Yy8tK\\downloaded_packages\n"
     ]
    }
   ],
   "source": [
    "#9)\n",
    "install.packages(\"ISLR\")\n",
    "install.packages(\"glmnet\")"
   ]
  },
  {
   "cell_type": "code",
   "execution_count": 20,
   "id": "78b00674",
   "metadata": {},
   "outputs": [],
   "source": [
    "library(ISLR)\n",
    "data(College)"
   ]
  },
  {
   "cell_type": "code",
   "execution_count": 21,
   "id": "946ef2d3",
   "metadata": {},
   "outputs": [],
   "source": [
    "#a)\n",
    "train = sample(1:dim(College)[1], dim(College)[1] / 2)\n",
    "test <- -train\n",
    "College.train <- College[train, ]\n",
    "College.test <- College[test, ]"
   ]
  },
  {
   "cell_type": "code",
   "execution_count": 22,
   "id": "04c411f4",
   "metadata": {},
   "outputs": [
    {
     "data": {
      "text/html": [
       "964836.143346784"
      ],
      "text/latex": [
       "964836.143346784"
      ],
      "text/markdown": [
       "964836.143346784"
      ],
      "text/plain": [
       "[1] 964836.1"
      ]
     },
     "metadata": {},
     "output_type": "display_data"
    }
   ],
   "source": [
    "#b)\n",
    "fit.lm <- lm(Apps ~ ., data = College.train)\n",
    "pred.lm <- predict(fit.lm, College.test)\n",
    "mean((pred.lm - College.test$Apps)^2)"
   ]
  },
  {
   "cell_type": "code",
   "execution_count": 27,
   "id": "d4961d52",
   "metadata": {},
   "outputs": [
    {
     "name": "stderr",
     "output_type": "stream",
     "text": [
      "Loading required package: Matrix\n",
      "\n",
      "Loaded glmnet 4.1-3\n",
      "\n"
     ]
    },
    {
     "data": {
      "text/html": [
       "0.01"
      ],
      "text/latex": [
       "0.01"
      ],
      "text/markdown": [
       "0.01"
      ],
      "text/plain": [
       "[1] 0.01"
      ]
     },
     "metadata": {},
     "output_type": "display_data"
    }
   ],
   "source": [
    "\n",
    "library(glmnet)\n"
   ]
  },
  {
   "cell_type": "code",
   "execution_count": 31,
   "id": "fa937037",
   "metadata": {},
   "outputs": [
    {
     "data": {
      "text/html": [
       "37.6493580679247"
      ],
      "text/latex": [
       "37.6493580679247"
      ],
      "text/markdown": [
       "37.6493580679247"
      ],
      "text/plain": [
       "[1] 37.64936"
      ]
     },
     "metadata": {},
     "output_type": "display_data"
    }
   ],
   "source": [
    "#d)\n",
    "\n",
    "fit.lasso <- glmnet(train.mat, College.train$Apps, alpha = 1, lambda = grid, thresh = 1e-12)\n",
    "cv.lasso <- cv.glmnet(train.mat, College.train$Apps, alpha = 1, lambda = grid, thresh = 1e-12)\n",
    "bestlam.lasso <- cv.lasso$lambda.min\n",
    "bestlam.lasso"
   ]
  },
  {
   "cell_type": "code",
   "execution_count": 32,
   "id": "9aa462de",
   "metadata": {},
   "outputs": [
    {
     "data": {
      "text/html": [
       "934093.078115737"
      ],
      "text/latex": [
       "934093.078115737"
      ],
      "text/markdown": [
       "934093.078115737"
      ],
      "text/plain": [
       "[1] 934093.1"
      ]
     },
     "metadata": {},
     "output_type": "display_data"
    }
   ],
   "source": [
    "pred.lasso <- predict(fit.lasso, s = bestlam.lasso, newx = test.mat)\n",
    "mean((pred.lasso - College.test$Apps)^2)"
   ]
  },
  {
   "cell_type": "code",
   "execution_count": 34,
   "id": "e6d425d1",
   "metadata": {},
   "outputs": [
    {
     "name": "stdout",
     "output_type": "stream",
     "text": [
      "package 'pls' successfully unpacked and MD5 sums checked\n",
      "\n",
      "The downloaded binary packages are in\n",
      "\tC:\\Users\\kamal\\AppData\\Local\\Temp\\Rtmp0Yy8tK\\downloaded_packages\n"
     ]
    },
    {
     "name": "stderr",
     "output_type": "stream",
     "text": [
      "\n",
      "Attaching package: 'pls'\n",
      "\n",
      "\n",
      "The following object is masked from 'package:stats':\n",
      "\n",
      "    loadings\n",
      "\n",
      "\n"
     ]
    }
   ],
   "source": [
    "#e) \n",
    "install.packages(\"pls\")\n",
    "library(pls)"
   ]
  },
  {
   "cell_type": "code",
   "execution_count": 36,
   "id": "147ce509",
   "metadata": {},
   "outputs": [],
   "source": [
    "fit.pcr <- pcr(Apps ~ ., data = College.train, scale = TRUE, validation = \"CV\")"
   ]
  },
  {
   "cell_type": "code",
   "execution_count": 37,
   "id": "70fb5eb9",
   "metadata": {},
   "outputs": [
    {
     "data": {
      "text/html": [
       "1670072.06105917"
      ],
      "text/latex": [
       "1670072.06105917"
      ],
      "text/markdown": [
       "1670072.06105917"
      ],
      "text/plain": [
       "[1] 1670072"
      ]
     },
     "metadata": {},
     "output_type": "display_data"
    }
   ],
   "source": [
    "pred.pcr <- predict(fit.pcr, College.test, ncomp = 10)\n",
    "mean((pred.pcr - College.test$Apps)^2)"
   ]
  },
  {
   "cell_type": "code",
   "execution_count": 38,
   "id": "0620fd70",
   "metadata": {},
   "outputs": [],
   "source": [
    "#f) \n",
    "fit.pls <- plsr(Apps ~ ., data = College.train, scale = TRUE, validation = \"CV\")"
   ]
  },
  {
   "cell_type": "code",
   "execution_count": 39,
   "id": "a4156f34",
   "metadata": {},
   "outputs": [
    {
     "data": {
      "text/html": [
       "956464.029106296"
      ],
      "text/latex": [
       "956464.029106296"
      ],
      "text/markdown": [
       "956464.029106296"
      ],
      "text/plain": [
       "[1] 956464"
      ]
     },
     "metadata": {},
     "output_type": "display_data"
    }
   ],
   "source": [
    "pred.pls <- predict(fit.pls, College.test, ncomp = 10)\n",
    "mean((pred.pls - College.test$Apps)^2)"
   ]
  },
  {
   "cell_type": "code",
   "execution_count": 40,
   "id": "1c27efa8",
   "metadata": {},
   "outputs": [],
   "source": [
    "#g) \n",
    "\n",
    "test.avg <- mean(College.test$Apps)\n",
    "lm.r2 <- 1 - mean((pred.lm - College.test$Apps)^2) / mean((test.avg - College.test$Apps)^2)\n",
    "lasso.r2 <- 1 - mean((pred.lasso - College.test$Apps)^2) / mean((test.avg - College.test$Apps)^2)\n",
    "pcr.r2 <- 1 - mean((pred.pcr - College.test$Apps)^2) / mean((test.avg - College.test$Apps)^2)\n",
    "pls.r2 <- 1 - mean((pred.pls - College.test$Apps)^2) / mean((test.avg - College.test$Apps)^2)"
   ]
  },
  {
   "cell_type": "code",
   "execution_count": 41,
   "id": "d927b600",
   "metadata": {},
   "outputs": [
    {
     "data": {
      "text/html": [
       "2874.56298200514"
      ],
      "text/latex": [
       "2874.56298200514"
      ],
      "text/markdown": [
       "2874.56298200514"
      ],
      "text/plain": [
       "[1] 2874.563"
      ]
     },
     "metadata": {},
     "output_type": "display_data"
    }
   ],
   "source": [
    "test.avg"
   ]
  },
  {
   "cell_type": "code",
   "execution_count": 42,
   "id": "b748c260",
   "metadata": {},
   "outputs": [
    {
     "data": {
      "text/html": [
       "0.916276560338587"
      ],
      "text/latex": [
       "0.916276560338587"
      ],
      "text/markdown": [
       "0.916276560338587"
      ],
      "text/plain": [
       "[1] 0.9162766"
      ]
     },
     "metadata": {},
     "output_type": "display_data"
    }
   ],
   "source": [
    "lm.r2"
   ]
  },
  {
   "cell_type": "code",
   "execution_count": 43,
   "id": "34a578eb",
   "metadata": {},
   "outputs": [
    {
     "data": {
      "text/html": [
       "0.918944282919905"
      ],
      "text/latex": [
       "0.918944282919905"
      ],
      "text/markdown": [
       "0.918944282919905"
      ],
      "text/plain": [
       "[1] 0.9189443"
      ]
     },
     "metadata": {},
     "output_type": "display_data"
    }
   ],
   "source": [
    "lasso.r2"
   ]
  },
  {
   "cell_type": "code",
   "execution_count": 44,
   "id": "eff9e169",
   "metadata": {},
   "outputs": [
    {
     "data": {
      "text/html": [
       "0.855079871957032"
      ],
      "text/latex": [
       "0.855079871957032"
      ],
      "text/markdown": [
       "0.855079871957032"
      ],
      "text/plain": [
       "[1] 0.8550799"
      ]
     },
     "metadata": {},
     "output_type": "display_data"
    }
   ],
   "source": [
    "pcr.r2"
   ]
  },
  {
   "cell_type": "code",
   "execution_count": 45,
   "id": "d9478b8a",
   "metadata": {},
   "outputs": [
    {
     "data": {
      "text/html": [
       "0.917003048671642"
      ],
      "text/latex": [
       "0.917003048671642"
      ],
      "text/markdown": [
       "0.917003048671642"
      ],
      "text/plain": [
       "[1] 0.917003"
      ]
     },
     "metadata": {},
     "output_type": "display_data"
    }
   ],
   "source": [
    "pls.r2 "
   ]
  },
  {
   "cell_type": "code",
   "execution_count": 46,
   "id": "231b5627",
   "metadata": {},
   "outputs": [],
   "source": [
    " #All models, except PCR, predict college applications with high accuracy."
   ]
  },
  {
   "cell_type": "markdown",
   "id": "b70b3ed4",
   "metadata": {},
   "source": [
    "# Chapter 7"
   ]
  },
  {
   "cell_type": "code",
   "execution_count": 47,
   "id": "e239f7c7",
   "metadata": {},
   "outputs": [
    {
     "data": {
      "text/plain": [
       "\n",
       "Call:\n",
       "lm(formula = nox ~ poly(dis, 3), data = Boston)\n",
       "\n",
       "Residuals:\n",
       "      Min        1Q    Median        3Q       Max \n",
       "-0.121130 -0.040619 -0.009738  0.023385  0.194904 \n",
       "\n",
       "Coefficients:\n",
       "               Estimate Std. Error t value Pr(>|t|)    \n",
       "(Intercept)    0.554695   0.002759 201.021  < 2e-16 ***\n",
       "poly(dis, 3)1 -2.003096   0.062071 -32.271  < 2e-16 ***\n",
       "poly(dis, 3)2  0.856330   0.062071  13.796  < 2e-16 ***\n",
       "poly(dis, 3)3 -0.318049   0.062071  -5.124 4.27e-07 ***\n",
       "---\n",
       "Signif. codes:  0 '***' 0.001 '**' 0.01 '*' 0.05 '.' 0.1 ' ' 1\n",
       "\n",
       "Residual standard error: 0.06207 on 502 degrees of freedom\n",
       "Multiple R-squared:  0.7148,\tAdjusted R-squared:  0.7131 \n",
       "F-statistic: 419.3 on 3 and 502 DF,  p-value: < 2.2e-16\n"
      ]
     },
     "metadata": {},
     "output_type": "display_data"
    }
   ],
   "source": [
    "#9)\n",
    "#a)\n",
    "\n",
    "library(MASS)\n",
    "set.seed(1)\n",
    "fit <- lm(nox ~ poly(dis, 3), data = Boston)\n",
    "summary(fit)"
   ]
  },
  {
   "cell_type": "code",
   "execution_count": 48,
   "id": "9e62f717",
   "metadata": {},
   "outputs": [
    {
     "data": {
      "image/png": "[encoded data removed]",
      "text/plain": [
       "plot without title"
      ]
     },
     "metadata": {
      "image/png": {
       "height": 420,
       "width": 420
      }
     },
     "output_type": "display_data"
    }
   ],
   "source": [
    "dislims <- range(Boston$dis)\n",
    "dis.grid <- seq(from = dislims[1], to = dislims[2], by = 0.1)\n",
    "preds <- predict(fit, list(dis = dis.grid))\n",
    "plot(nox ~ dis, data = Boston, col = \"darkgrey\")\n",
    "lines(dis.grid, preds, col = \"red\", lwd = 2)"
   ]
  },
  {
   "cell_type": "code",
   "execution_count": 49,
   "id": "41905ba2",
   "metadata": {},
   "outputs": [
    {
     "data": {
      "image/png": "[encoded data removed]",
      "text/plain": [
       "plot without title"
      ]
     },
     "metadata": {
      "image/png": {
       "height": 420,
       "width": 420
      }
     },
     "output_type": "display_data"
    }
   ],
   "source": [
    "#b) \n",
    "rss <- rep(NA, 10)\n",
    "for (i in 1:10) {\n",
    "    fit <- lm(nox ~ poly(dis, i), data = Boston)\n",
    "    rss[i] <- sum(fit$residuals^2)\n",
    "}\n",
    "plot(1:10, rss, xlab = \"Degree\", ylab = \"RSS\", type = \"l\")"
   ]
  },
  {
   "cell_type": "code",
   "execution_count": 50,
   "id": "f218c446",
   "metadata": {},
   "outputs": [
    {
     "data": {
      "image/png": "[encoded data removed]",
      "text/plain": [
       "plot without title"
      ]
     },
     "metadata": {
      "image/png": {
       "height": 420,
       "width": 420
      }
     },
     "output_type": "display_data"
    }
   ],
   "source": [
    "#c) \n",
    "deltas <- rep(NA, 10)\n",
    "for (i in 1:10) {\n",
    "    fit <- glm(nox ~ poly(dis, i), data = Boston)\n",
    "    deltas[i] <- cv.glm(Boston, fit, K = 10)$delta[1]\n",
    "}\n",
    "plot(1:10, deltas, xlab = \"Degree\", ylab = \"Test MSE\", type = \"l\")"
   ]
  },
  {
   "cell_type": "code",
   "execution_count": 52,
   "id": "528dcfcb",
   "metadata": {},
   "outputs": [
    {
     "name": "stderr",
     "output_type": "stream",
     "text": [
      "Warning message:\n",
      "\"package 'splines' is a base package, and should not be updated\"\n"
     ]
    }
   ],
   "source": [
    "#d) \n",
    "\n",
    "install.packages('splines')"
   ]
  },
  {
   "cell_type": "code",
   "execution_count": 54,
   "id": "187dceaa",
   "metadata": {},
   "outputs": [
    {
     "data": {
      "text/plain": [
       "\n",
       "Call:\n",
       "lm(formula = nox ~ bs(dis, knots = c(4, 7, 11)), data = Boston)\n",
       "\n",
       "Residuals:\n",
       "      Min        1Q    Median        3Q       Max \n",
       "-0.124567 -0.040355 -0.008702  0.024740  0.192920 \n",
       "\n",
       "Coefficients:\n",
       "                              Estimate Std. Error t value Pr(>|t|)    \n",
       "(Intercept)                    0.73926    0.01331  55.537  < 2e-16 ***\n",
       "bs(dis, knots = c(4, 7, 11))1 -0.08861    0.02504  -3.539  0.00044 ***\n",
       "bs(dis, knots = c(4, 7, 11))2 -0.31341    0.01680 -18.658  < 2e-16 ***\n",
       "bs(dis, knots = c(4, 7, 11))3 -0.26618    0.03147  -8.459 3.00e-16 ***\n",
       "bs(dis, knots = c(4, 7, 11))4 -0.39802    0.04647  -8.565  < 2e-16 ***\n",
       "bs(dis, knots = c(4, 7, 11))5 -0.25681    0.09001  -2.853  0.00451 ** \n",
       "bs(dis, knots = c(4, 7, 11))6 -0.32926    0.06327  -5.204 2.85e-07 ***\n",
       "---\n",
       "Signif. codes:  0 '***' 0.001 '**' 0.01 '*' 0.05 '.' 0.1 ' ' 1\n",
       "\n",
       "Residual standard error: 0.06185 on 499 degrees of freedom\n",
       "Multiple R-squared:  0.7185,\tAdjusted R-squared:  0.7151 \n",
       "F-statistic: 212.3 on 6 and 499 DF,  p-value: < 2.2e-16\n"
      ]
     },
     "metadata": {},
     "output_type": "display_data"
    }
   ],
   "source": [
    "library(splines)\n",
    "fit <- lm(nox ~ bs(dis, knots = c(4, 7, 11)), data = Boston)\n",
    "summary(fit)"
   ]
  },
  {
   "cell_type": "code",
   "execution_count": 55,
   "id": "545d8c27",
   "metadata": {},
   "outputs": [
    {
     "data": {
      "image/png": "[encoded data removed]",
      "text/plain": [
       "plot without title"
      ]
     },
     "metadata": {
      "image/png": {
       "height": 420,
       "width": 420
      }
     },
     "output_type": "display_data"
    }
   ],
   "source": [
    "pred <- predict(fit, list(dis = dis.grid))\n",
    "plot(nox ~ dis, data = Boston, col = \"darkgrey\")\n",
    "lines(dis.grid, preds, col = \"red\", lwd = 2)"
   ]
  },
  {
   "cell_type": "code",
   "execution_count": 56,
   "id": "c8922df3",
   "metadata": {},
   "outputs": [
    {
     "data": {
      "image/png": "[encoded data removed]",
      "text/plain": [
       "plot without title"
      ]
     },
     "metadata": {
      "image/png": {
       "height": 420,
       "width": 420
      }
     },
     "output_type": "display_data"
    }
   ],
   "source": [
    "#e) \n",
    "\n",
    "rss <- rep(NA, 16)\n",
    "for (i in 3:16) {\n",
    "    fit <- lm(nox ~ bs(dis, df = i), data = Boston)\n",
    "    rss[i] <- sum(fit$residuals^2)\n",
    "}\n",
    "plot(3:16, rss[-c(1, 2)], xlab = \"Degrees of freedom\", ylab = \"RSS\", type = \"l\")\n"
   ]
  }
 ],
 "metadata": {
  "kernelspec": {
   "display_name": "R",
   "language": "R",
   "name": "ir"
  },
  "language_info": {
   "codemirror_mode": "r",
   "file_extension": ".r",
   "mimetype": "text/x-r-source",
   "name": "R",
   "pygments_lexer": "r",
   "version": "4.0.5"
  }
 },
 "nbformat": 4,
 "nbformat_minor": 5
}
